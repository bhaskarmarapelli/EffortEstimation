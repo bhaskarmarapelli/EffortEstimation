{
  "nbformat": 4,
  "nbformat_minor": 0,
  "metadata": {
    "colab": {
      "provenance": [],
      "authorship_tag": "ABX9TyPZl4OlLcuf0E6K5lTmJjhC",
      "include_colab_link": true
    },
    "kernelspec": {
      "name": "python3",
      "display_name": "Python 3"
    },
    "language_info": {
      "name": "python"
    }
  },
  "cells": [
    {
      "cell_type": "markdown",
      "metadata": {
        "id": "view-in-github",
        "colab_type": "text"
      },
      "source": [
        "<a href=\"https://colab.research.google.com/github/bhaskarmarapelli/EffortEstimation/blob/master/Untitled60.ipynb\" target=\"_parent\"><img src=\"https://colab.research.google.com/assets/colab-badge.svg\" alt=\"Open In Colab\"/></a>"
      ]
    },
    {
      "cell_type": "code",
      "execution_count": null,
      "metadata": {
        "colab": {
          "base_uri": "https://localhost:8080/"
        },
        "id": "2fNx_8SPYAWd",
        "outputId": "25134623-ce05-49c3-be4a-7bfbe05791d1"
      },
      "outputs": [
        {
          "output_type": "stream",
          "name": "stdout",
          "text": [
            "<class 'pandas.core.frame.DataFrame'>\n",
            "RangeIndex: 107 entries, 0 to 106\n",
            "Data columns (total 6 columns):\n",
            " #   Column        Non-Null Count  Dtype  \n",
            "---  ------        --------------  -----  \n",
            " 0   anchor_ratio  107 non-null    int64  \n",
            " 1   trans_range   107 non-null    int64  \n",
            " 2   node_density  107 non-null    int64  \n",
            " 3   iterations    107 non-null    int64  \n",
            " 4   ale           107 non-null    float64\n",
            " 5   sd_ale        107 non-null    float64\n",
            "dtypes: float64(2), int64(4)\n",
            "memory usage: 5.1 KB\n",
            "Original data:\n",
            " [(1, 2), (2, 4), (3, 1), (4, 6), (5, 3)]\n",
            "Interpolated data:\n",
            " [(1.0, 2.0), (1.4444444444444444, 2.888888888888889), (1.8888888888888888, 3.7777777777777777), (2.333333333333333, 3.000000000000001), (2.7777777777777777, 1.666666666666667), (3.2222222222222223, 2.1111111111111116), (3.6666666666666665, 4.333333333333332), (4.111111111111111, 5.666666666666668), (4.555555555555555, 4.333333333333334), (5.0, 3.0)]\n"
          ]
        }
      ],
      "source": [
        "import numpy as np\n",
        "from scipy.interpolate import interp1d\n",
        "\n",
        "# Generate some example data\n",
        "x = np.array([1, 2, 3, 4, 5])\n",
        "y = np.array([2, 4, 1, 6, 3])\n",
        "\n",
        "import pandas as pd\n",
        "\n",
        "df = pd.read_csv(\"/content/mcs_ds_edited_iter_shuffled.csv\")\n",
        "df.info()\n",
        "\n",
        "\n",
        "X=df.loc[:,df.columns !=\"ale\"].values\n",
        "y=df[\"ale\"].values\n",
        "\n",
        "\n",
        "# Create an interpolation function\n",
        "f = interp1d(x, y, kind='linear')\n",
        "\n",
        "# Generate some new x values\n",
        "new_x = np.linspace(1, 5, num=10)\n",
        "\n",
        "# Use the interpolation function to generate new y values\n",
        "new_y = f(new_x)\n",
        "\n",
        "# Print the original and interpolated data\n",
        "print(\"Original data:\\n\", list(zip(x, y)))\n",
        "print(\"Interpolated data:\\n\", list(zip(new_x, new_y)))\n"
      ]
    },
    {
      "cell_type": "code",
      "source": [
        "import pandas as pd\n",
        "\n",
        "df = pd.read_csv(\"/content/mcs_ds_edited_iter_shuffled.csv\")\n",
        "df.info()\n",
        "\n",
        "\n",
        "X=df.iloc[:, [0,1,3]]\n",
        "y=df[\"ale\"]"
      ],
      "metadata": {
        "colab": {
          "base_uri": "https://localhost:8080/"
        },
        "id": "LSJk_wIFbJ_b",
        "outputId": "aca7815e-80b2-48f8-f7a3-b5a3754c2b45"
      },
      "execution_count": null,
      "outputs": [
        {
          "output_type": "stream",
          "name": "stdout",
          "text": [
            "<class 'pandas.core.frame.DataFrame'>\n",
            "RangeIndex: 107 entries, 0 to 106\n",
            "Data columns (total 6 columns):\n",
            " #   Column        Non-Null Count  Dtype  \n",
            "---  ------        --------------  -----  \n",
            " 0   anchor_ratio  107 non-null    int64  \n",
            " 1   trans_range   107 non-null    int64  \n",
            " 2   node_density  107 non-null    int64  \n",
            " 3   iterations    107 non-null    int64  \n",
            " 4   ale           107 non-null    float64\n",
            " 5   sd_ale        107 non-null    float64\n",
            "dtypes: float64(2), int64(4)\n",
            "memory usage: 5.1 KB\n"
          ]
        }
      ]
    },
    {
      "cell_type": "code",
      "source": [
        "import pandas as pd\n",
        "import numpy as np\n",
        "\n",
        "# Read the data from a CSV file\n",
        "df = pd.read_csv('/content/mcs_ds_edited_iter_shuffled.csv')\n",
        "\n",
        "# Add random noise to the data\n",
        "noise_factor = 0.1  # example noise factor\n",
        "noisy_df = df + noise_factor * np.random.randn(*df.shape)\n",
        "\n",
        "# Scale the data\n",
        "scaling_factor = 1.2  # example scaling factor\n",
        "scaled_df = df * scaling_factor\n",
        "\n",
        "# Combine the original data frame with the noisy and scaled data frames\n",
        "augmented_df = pd.concat([df, noisy_df, scaled_df], axis=0)\n"
      ],
      "metadata": {
        "id": "B58nHrGlhinK"
      },
      "execution_count": 1,
      "outputs": []
    },
    {
      "cell_type": "code",
      "source": [
        "augmented_df\n"
      ],
      "metadata": {
        "colab": {
          "base_uri": "https://localhost:8080/",
          "height": 424
        },
        "id": "odvSNxbShtuF",
        "outputId": "79914876-85cd-4674-a9e6-0e6b70a04386"
      },
      "execution_count": null,
      "outputs": [
        {
          "output_type": "execute_result",
          "data": {
            "text/plain": [
              "     anchor_ratio  trans_range  node_density  iterations       ale    sd_ale\n",
              "0            30.0         15.0         200.0        40.0  0.773546  0.250555\n",
              "1            15.0         15.0         100.0        70.0  0.911941  0.498329\n",
              "2            30.0         15.0         100.0        50.0  0.814867  0.255546\n",
              "3            15.0         20.0         100.0        20.0  1.435332  0.394603\n",
              "4            30.0         15.0         100.0        40.0  1.265909  0.302943\n",
              "..            ...          ...           ...         ...       ...       ...\n",
              "102          21.6         27.6         120.0        24.0  1.544967  0.450273\n",
              "103          16.8         20.4         240.0        72.0  1.078923  0.278186\n",
              "104          18.0         24.0         120.0        60.0  1.405368  0.446402\n",
              "105          24.0         24.0         120.0        48.0  1.481391  0.719801\n",
              "106          18.0         18.0         240.0        48.0  0.762511  0.167750\n",
              "\n",
              "[321 rows x 6 columns]"
            ],
            "text/html": [
              "\n",
              "  <div id=\"df-f6ec3c94-0ddd-4865-be7c-e3ccd52b3e35\">\n",
              "    <div class=\"colab-df-container\">\n",
              "      <div>\n",
              "<style scoped>\n",
              "    .dataframe tbody tr th:only-of-type {\n",
              "        vertical-align: middle;\n",
              "    }\n",
              "\n",
              "    .dataframe tbody tr th {\n",
              "        vertical-align: top;\n",
              "    }\n",
              "\n",
              "    .dataframe thead th {\n",
              "        text-align: right;\n",
              "    }\n",
              "</style>\n",
              "<table border=\"1\" class=\"dataframe\">\n",
              "  <thead>\n",
              "    <tr style=\"text-align: right;\">\n",
              "      <th></th>\n",
              "      <th>anchor_ratio</th>\n",
              "      <th>trans_range</th>\n",
              "      <th>node_density</th>\n",
              "      <th>iterations</th>\n",
              "      <th>ale</th>\n",
              "      <th>sd_ale</th>\n",
              "    </tr>\n",
              "  </thead>\n",
              "  <tbody>\n",
              "    <tr>\n",
              "      <th>0</th>\n",
              "      <td>30.0</td>\n",
              "      <td>15.0</td>\n",
              "      <td>200.0</td>\n",
              "      <td>40.0</td>\n",
              "      <td>0.773546</td>\n",
              "      <td>0.250555</td>\n",
              "    </tr>\n",
              "    <tr>\n",
              "      <th>1</th>\n",
              "      <td>15.0</td>\n",
              "      <td>15.0</td>\n",
              "      <td>100.0</td>\n",
              "      <td>70.0</td>\n",
              "      <td>0.911941</td>\n",
              "      <td>0.498329</td>\n",
              "    </tr>\n",
              "    <tr>\n",
              "      <th>2</th>\n",
              "      <td>30.0</td>\n",
              "      <td>15.0</td>\n",
              "      <td>100.0</td>\n",
              "      <td>50.0</td>\n",
              "      <td>0.814867</td>\n",
              "      <td>0.255546</td>\n",
              "    </tr>\n",
              "    <tr>\n",
              "      <th>3</th>\n",
              "      <td>15.0</td>\n",
              "      <td>20.0</td>\n",
              "      <td>100.0</td>\n",
              "      <td>20.0</td>\n",
              "      <td>1.435332</td>\n",
              "      <td>0.394603</td>\n",
              "    </tr>\n",
              "    <tr>\n",
              "      <th>4</th>\n",
              "      <td>30.0</td>\n",
              "      <td>15.0</td>\n",
              "      <td>100.0</td>\n",
              "      <td>40.0</td>\n",
              "      <td>1.265909</td>\n",
              "      <td>0.302943</td>\n",
              "    </tr>\n",
              "    <tr>\n",
              "      <th>...</th>\n",
              "      <td>...</td>\n",
              "      <td>...</td>\n",
              "      <td>...</td>\n",
              "      <td>...</td>\n",
              "      <td>...</td>\n",
              "      <td>...</td>\n",
              "    </tr>\n",
              "    <tr>\n",
              "      <th>102</th>\n",
              "      <td>21.6</td>\n",
              "      <td>27.6</td>\n",
              "      <td>120.0</td>\n",
              "      <td>24.0</td>\n",
              "      <td>1.544967</td>\n",
              "      <td>0.450273</td>\n",
              "    </tr>\n",
              "    <tr>\n",
              "      <th>103</th>\n",
              "      <td>16.8</td>\n",
              "      <td>20.4</td>\n",
              "      <td>240.0</td>\n",
              "      <td>72.0</td>\n",
              "      <td>1.078923</td>\n",
              "      <td>0.278186</td>\n",
              "    </tr>\n",
              "    <tr>\n",
              "      <th>104</th>\n",
              "      <td>18.0</td>\n",
              "      <td>24.0</td>\n",
              "      <td>120.0</td>\n",
              "      <td>60.0</td>\n",
              "      <td>1.405368</td>\n",
              "      <td>0.446402</td>\n",
              "    </tr>\n",
              "    <tr>\n",
              "      <th>105</th>\n",
              "      <td>24.0</td>\n",
              "      <td>24.0</td>\n",
              "      <td>120.0</td>\n",
              "      <td>48.0</td>\n",
              "      <td>1.481391</td>\n",
              "      <td>0.719801</td>\n",
              "    </tr>\n",
              "    <tr>\n",
              "      <th>106</th>\n",
              "      <td>18.0</td>\n",
              "      <td>18.0</td>\n",
              "      <td>240.0</td>\n",
              "      <td>48.0</td>\n",
              "      <td>0.762511</td>\n",
              "      <td>0.167750</td>\n",
              "    </tr>\n",
              "  </tbody>\n",
              "</table>\n",
              "<p>321 rows × 6 columns</p>\n",
              "</div>\n",
              "      <button class=\"colab-df-convert\" onclick=\"convertToInteractive('df-f6ec3c94-0ddd-4865-be7c-e3ccd52b3e35')\"\n",
              "              title=\"Convert this dataframe to an interactive table.\"\n",
              "              style=\"display:none;\">\n",
              "        \n",
              "  <svg xmlns=\"http://www.w3.org/2000/svg\" height=\"24px\"viewBox=\"0 0 24 24\"\n",
              "       width=\"24px\">\n",
              "    <path d=\"M0 0h24v24H0V0z\" fill=\"none\"/>\n",
              "    <path d=\"M18.56 5.44l.94 2.06.94-2.06 2.06-.94-2.06-.94-.94-2.06-.94 2.06-2.06.94zm-11 1L8.5 8.5l.94-2.06 2.06-.94-2.06-.94L8.5 2.5l-.94 2.06-2.06.94zm10 10l.94 2.06.94-2.06 2.06-.94-2.06-.94-.94-2.06-.94 2.06-2.06.94z\"/><path d=\"M17.41 7.96l-1.37-1.37c-.4-.4-.92-.59-1.43-.59-.52 0-1.04.2-1.43.59L10.3 9.45l-7.72 7.72c-.78.78-.78 2.05 0 2.83L4 21.41c.39.39.9.59 1.41.59.51 0 1.02-.2 1.41-.59l7.78-7.78 2.81-2.81c.8-.78.8-2.07 0-2.86zM5.41 20L4 18.59l7.72-7.72 1.47 1.35L5.41 20z\"/>\n",
              "  </svg>\n",
              "      </button>\n",
              "      \n",
              "  <style>\n",
              "    .colab-df-container {\n",
              "      display:flex;\n",
              "      flex-wrap:wrap;\n",
              "      gap: 12px;\n",
              "    }\n",
              "\n",
              "    .colab-df-convert {\n",
              "      background-color: #E8F0FE;\n",
              "      border: none;\n",
              "      border-radius: 50%;\n",
              "      cursor: pointer;\n",
              "      display: none;\n",
              "      fill: #1967D2;\n",
              "      height: 32px;\n",
              "      padding: 0 0 0 0;\n",
              "      width: 32px;\n",
              "    }\n",
              "\n",
              "    .colab-df-convert:hover {\n",
              "      background-color: #E2EBFA;\n",
              "      box-shadow: 0px 1px 2px rgba(60, 64, 67, 0.3), 0px 1px 3px 1px rgba(60, 64, 67, 0.15);\n",
              "      fill: #174EA6;\n",
              "    }\n",
              "\n",
              "    [theme=dark] .colab-df-convert {\n",
              "      background-color: #3B4455;\n",
              "      fill: #D2E3FC;\n",
              "    }\n",
              "\n",
              "    [theme=dark] .colab-df-convert:hover {\n",
              "      background-color: #434B5C;\n",
              "      box-shadow: 0px 1px 3px 1px rgba(0, 0, 0, 0.15);\n",
              "      filter: drop-shadow(0px 1px 2px rgba(0, 0, 0, 0.3));\n",
              "      fill: #FFFFFF;\n",
              "    }\n",
              "  </style>\n",
              "\n",
              "      <script>\n",
              "        const buttonEl =\n",
              "          document.querySelector('#df-f6ec3c94-0ddd-4865-be7c-e3ccd52b3e35 button.colab-df-convert');\n",
              "        buttonEl.style.display =\n",
              "          google.colab.kernel.accessAllowed ? 'block' : 'none';\n",
              "\n",
              "        async function convertToInteractive(key) {\n",
              "          const element = document.querySelector('#df-f6ec3c94-0ddd-4865-be7c-e3ccd52b3e35');\n",
              "          const dataTable =\n",
              "            await google.colab.kernel.invokeFunction('convertToInteractive',\n",
              "                                                     [key], {});\n",
              "          if (!dataTable) return;\n",
              "\n",
              "          const docLinkHtml = 'Like what you see? Visit the ' +\n",
              "            '<a target=\"_blank\" href=https://colab.research.google.com/notebooks/data_table.ipynb>data table notebook</a>'\n",
              "            + ' to learn more about interactive tables.';\n",
              "          element.innerHTML = '';\n",
              "          dataTable['output_type'] = 'display_data';\n",
              "          await google.colab.output.renderOutput(dataTable, element);\n",
              "          const docLink = document.createElement('div');\n",
              "          docLink.innerHTML = docLinkHtml;\n",
              "          element.appendChild(docLink);\n",
              "        }\n",
              "      </script>\n",
              "    </div>\n",
              "  </div>\n",
              "  "
            ]
          },
          "metadata": {},
          "execution_count": 18
        }
      ]
    },
    {
      "cell_type": "code",
      "source": [
        "import pandas as pd\n",
        "\n",
        "df = pd.read_csv(\"/content/mcs_ds_edited_iter_shuffled.csv\")\n",
        "df.info()"
      ],
      "metadata": {
        "id": "AfVm5WJSEbMJ"
      },
      "execution_count": null,
      "outputs": []
    },
    {
      "cell_type": "code",
      "source": [
        "import pandas as pd\n",
        "import numpy as np\n",
        "\n",
        "# assuming your dataframe is called `df`\n",
        "# separate the input and output features\n",
        "X = df.iloc[:, :4].values # input features\n",
        "y = df.iloc[:, 4].values # output feature\n",
        "\n",
        "\n"
      ],
      "metadata": {
        "id": "Ff_mDc2-06O9"
      },
      "execution_count": 21,
      "outputs": []
    },
    {
      "cell_type": "code",
      "source": [
        "from sklearn.model_selection import train_test_split\n",
        "\n",
        "# split the data into training and testing sets with a 70-30 split\n",
        "X_train, X_test, y_train, y_test = train_test_split(X, y, test_size=0.3, random_state=42)\n"
      ],
      "metadata": {
        "id": "mM6mcVOm6ccX"
      },
      "execution_count": 22,
      "outputs": []
    },
    {
      "cell_type": "code",
      "source": [
        "from keras.models import Sequential\n",
        "from keras.layers import Conv1D, MaxPooling1D, Flatten, Dense\n",
        "\n",
        "# define the model architecture\n",
        "model = Sequential()\n",
        "model.add(Conv1D(filters=64, kernel_size=3, activation='relu', input_shape=(4, 1)))\n",
        "model.add(MaxPooling1D(pool_size=2))\n",
        "model.add(Flatten())\n",
        "model.add(Dense(units=50, activation='relu'))\n",
        "model.add(Dense(units=1))\n",
        "\n",
        "# compile the model\n",
        "model.compile(optimizer='adam', loss='mse')\n",
        "\n",
        "# train the model\n",
        "model.fit(X_train, y_train, epochs=50, batch_size=32, validation_data=(X_test, y_test))\n"
      ],
      "metadata": {
        "colab": {
          "base_uri": "https://localhost:8080/"
        },
        "id": "-kjWaXSE65RD",
        "outputId": "7778bdb6-27d1-4322-a2e4-48f4521d4588"
      },
      "execution_count": 4,
      "outputs": [
        {
          "output_type": "stream",
          "name": "stdout",
          "text": [
            "Epoch 1/50\n",
            "7/7 [==============================] - 1s 39ms/step - loss: 48.6831 - val_loss: 28.8579\n",
            "Epoch 2/50\n",
            "7/7 [==============================] - 0s 10ms/step - loss: 11.1007 - val_loss: 14.0846\n",
            "Epoch 3/50\n",
            "7/7 [==============================] - 0s 8ms/step - loss: 7.8228 - val_loss: 5.5582\n",
            "Epoch 4/50\n",
            "7/7 [==============================] - 0s 8ms/step - loss: 4.5170 - val_loss: 1.0297\n",
            "Epoch 5/50\n",
            "7/7 [==============================] - 0s 11ms/step - loss: 1.9534 - val_loss: 0.9417\n",
            "Epoch 6/50\n",
            "7/7 [==============================] - 0s 10ms/step - loss: 1.2861 - val_loss: 1.0762\n",
            "Epoch 7/50\n",
            "7/7 [==============================] - 0s 11ms/step - loss: 0.9235 - val_loss: 0.8690\n",
            "Epoch 8/50\n",
            "7/7 [==============================] - 0s 10ms/step - loss: 0.8025 - val_loss: 0.8923\n",
            "Epoch 9/50\n",
            "7/7 [==============================] - 0s 11ms/step - loss: 0.6950 - val_loss: 0.7724\n",
            "Epoch 10/50\n",
            "7/7 [==============================] - 0s 9ms/step - loss: 0.6489 - val_loss: 0.7663\n",
            "Epoch 11/50\n",
            "7/7 [==============================] - 0s 10ms/step - loss: 0.5953 - val_loss: 0.7031\n",
            "Epoch 12/50\n",
            "7/7 [==============================] - 0s 8ms/step - loss: 0.5376 - val_loss: 0.6450\n",
            "Epoch 13/50\n",
            "7/7 [==============================] - 0s 11ms/step - loss: 0.5169 - val_loss: 0.6737\n",
            "Epoch 14/50\n",
            "7/7 [==============================] - 0s 11ms/step - loss: 0.4727 - val_loss: 0.6076\n",
            "Epoch 15/50\n",
            "7/7 [==============================] - 0s 11ms/step - loss: 0.4265 - val_loss: 0.5215\n",
            "Epoch 16/50\n",
            "7/7 [==============================] - 0s 8ms/step - loss: 0.3833 - val_loss: 0.5528\n",
            "Epoch 17/50\n",
            "7/7 [==============================] - 0s 8ms/step - loss: 0.3643 - val_loss: 0.4752\n",
            "Epoch 18/50\n",
            "7/7 [==============================] - 0s 10ms/step - loss: 0.3402 - val_loss: 0.4358\n",
            "Epoch 19/50\n",
            "7/7 [==============================] - 0s 7ms/step - loss: 0.3192 - val_loss: 0.5223\n",
            "Epoch 20/50\n",
            "7/7 [==============================] - 0s 11ms/step - loss: 0.3016 - val_loss: 0.3903\n",
            "Epoch 21/50\n",
            "7/7 [==============================] - 0s 11ms/step - loss: 0.2681 - val_loss: 0.4552\n",
            "Epoch 22/50\n",
            "7/7 [==============================] - 0s 10ms/step - loss: 0.2962 - val_loss: 0.3651\n",
            "Epoch 23/50\n",
            "7/7 [==============================] - 0s 8ms/step - loss: 0.2742 - val_loss: 0.3444\n",
            "Epoch 24/50\n",
            "7/7 [==============================] - 0s 11ms/step - loss: 0.2796 - val_loss: 0.4391\n",
            "Epoch 25/50\n",
            "7/7 [==============================] - 0s 8ms/step - loss: 0.2629 - val_loss: 0.3370\n",
            "Epoch 26/50\n",
            "7/7 [==============================] - 0s 8ms/step - loss: 0.2437 - val_loss: 0.3223\n",
            "Epoch 27/50\n",
            "7/7 [==============================] - 0s 8ms/step - loss: 0.2375 - val_loss: 0.3090\n",
            "Epoch 28/50\n",
            "7/7 [==============================] - 0s 9ms/step - loss: 0.2368 - val_loss: 0.3371\n",
            "Epoch 29/50\n",
            "7/7 [==============================] - 0s 9ms/step - loss: 0.2273 - val_loss: 0.2930\n",
            "Epoch 30/50\n",
            "7/7 [==============================] - 0s 7ms/step - loss: 0.2240 - val_loss: 0.3101\n",
            "Epoch 31/50\n",
            "7/7 [==============================] - 0s 10ms/step - loss: 0.2217 - val_loss: 0.2974\n",
            "Epoch 32/50\n",
            "7/7 [==============================] - 0s 8ms/step - loss: 0.2185 - val_loss: 0.3057\n",
            "Epoch 33/50\n",
            "7/7 [==============================] - 0s 8ms/step - loss: 0.2144 - val_loss: 0.2766\n",
            "Epoch 34/50\n",
            "7/7 [==============================] - 0s 10ms/step - loss: 0.2140 - val_loss: 0.2762\n",
            "Epoch 35/50\n",
            "7/7 [==============================] - 0s 10ms/step - loss: 0.2078 - val_loss: 0.2795\n",
            "Epoch 36/50\n",
            "7/7 [==============================] - 0s 9ms/step - loss: 0.2077 - val_loss: 0.2733\n",
            "Epoch 37/50\n",
            "7/7 [==============================] - 0s 11ms/step - loss: 0.2032 - val_loss: 0.2603\n",
            "Epoch 38/50\n",
            "7/7 [==============================] - 0s 11ms/step - loss: 0.1985 - val_loss: 0.2807\n",
            "Epoch 39/50\n",
            "7/7 [==============================] - 0s 11ms/step - loss: 0.2022 - val_loss: 0.2587\n",
            "Epoch 40/50\n",
            "7/7 [==============================] - 0s 10ms/step - loss: 0.1941 - val_loss: 0.2588\n",
            "Epoch 41/50\n",
            "7/7 [==============================] - 0s 13ms/step - loss: 0.1957 - val_loss: 0.2502\n",
            "Epoch 42/50\n",
            "7/7 [==============================] - 0s 8ms/step - loss: 0.2021 - val_loss: 0.2420\n",
            "Epoch 43/50\n",
            "7/7 [==============================] - 0s 9ms/step - loss: 0.2082 - val_loss: 0.2415\n",
            "Epoch 44/50\n",
            "7/7 [==============================] - 0s 11ms/step - loss: 0.1946 - val_loss: 0.2727\n",
            "Epoch 45/50\n",
            "7/7 [==============================] - 0s 8ms/step - loss: 0.1889 - val_loss: 0.2469\n",
            "Epoch 46/50\n",
            "7/7 [==============================] - 0s 7ms/step - loss: 0.1809 - val_loss: 0.2340\n",
            "Epoch 47/50\n",
            "7/7 [==============================] - 0s 8ms/step - loss: 0.1802 - val_loss: 0.2622\n",
            "Epoch 48/50\n",
            "7/7 [==============================] - 0s 8ms/step - loss: 0.1836 - val_loss: 0.2185\n",
            "Epoch 49/50\n",
            "7/7 [==============================] - 0s 8ms/step - loss: 0.1739 - val_loss: 0.2477\n",
            "Epoch 50/50\n",
            "7/7 [==============================] - 0s 8ms/step - loss: 0.1764 - val_loss: 0.2360\n"
          ]
        },
        {
          "output_type": "execute_result",
          "data": {
            "text/plain": [
              "<keras.callbacks.History at 0x7fd1708eba00>"
            ]
          },
          "metadata": {},
          "execution_count": 4
        }
      ]
    },
    {
      "cell_type": "code",
      "source": [
        "from sklearn.metrics import r2_score\n",
        "\n",
        "# make predictions on the testing set\n",
        "y_pred = model.predict(X_test)\n",
        "\n",
        "# compute the R^2 score\n",
        "r2 = r2_score(y_test, y_pred)\n",
        "\n",
        "print(\"R^2:\", r2)\n"
      ],
      "metadata": {
        "colab": {
          "base_uri": "https://localhost:8080/"
        },
        "id": "6BoXS3LN7pID",
        "outputId": "da8e2799-fce3-447d-bee0-0d85f07918c6"
      },
      "execution_count": 6,
      "outputs": [
        {
          "output_type": "stream",
          "name": "stdout",
          "text": [
            "4/4 [==============================] - 0s 4ms/step\n",
            "R^2: 0.05570466022809062\n"
          ]
        }
      ]
    },
    {
      "cell_type": "code",
      "source": [
        "from sklearn.linear_model import LinearRegression\n",
        "from sklearn.model_selection import cross_val_score\n",
        "\n",
        "# define the linear regression model\n",
        "lr_model = LinearRegression()\n",
        "\n",
        "# compute the cross-validation scores for MSE\n",
        "mse_scores = -cross_val_score(lr_model, X, y, cv=5, scoring='neg_mean_squared_error')\n",
        "\n",
        "# compute the cross-validation scores for R^2 score\n",
        "r2_scores = cross_val_score(lr_model, X, y, cv=5, scoring='r2')\n",
        "\n",
        "# compute the cross-validation scores for MAE\n",
        "mae_scores = -cross_val_score(lr_model, X, y, cv=5, scoring='neg_mean_absolute_error')\n",
        "\n",
        "# print the mean cross-validation score for MAE\n",
        "print(\"MAE scores:\", mae_scores.mean())\n",
        "\n",
        "# print the mean cross-validation scores for MSE and R^2 score\n",
        "print(\"MSE scores:\", mse_scores.mean())\n",
        "print(\"R^2 scores:\", r2_scores.mean())\n",
        "\n",
        "\n",
        "\n",
        "\n",
        "# compute the cross-validation scores for MAE\n",
        "mae_scores = -cross_val_score(lr_model, X, y, cv=5, scoring='neg_mean_absolute_error')\n",
        "\n",
        "import matplotlib.pyplot as plt\n",
        "# plot the MAE scores\n",
        "plt.plot(mae_scores)\n",
        "plt.xlabel('Fold')\n",
        "plt.ylabel('MAE')\n",
        "plt.title('Cross-validation scores for MAE')\n",
        "plt.show()\n",
        "\n",
        "\n",
        "# plot the R^2 scores\n",
        "plt.plot(r2_scores)\n",
        "plt.xlabel('Fold')\n",
        "plt.ylabel('R^2')\n",
        "plt.title('Cross-validation scores for R^2')\n",
        "plt.show()\n",
        "\n",
        "\n",
        "\n"
      ],
      "metadata": {
        "colab": {
          "base_uri": "https://localhost:8080/",
          "height": 625
        },
        "id": "IM9pW_zc8RIO",
        "outputId": "0099619e-091c-429d-868f-1a55a7b2918f"
      },
      "execution_count": 23,
      "outputs": [
        {
          "output_type": "stream",
          "name": "stdout",
          "text": [
            "MAE scores: 0.1722574967962481\n",
            "MSE scores: 0.059093479111009026\n",
            "R^2 scores: 0.6283780387440685\n"
          ]
        },
        {
          "output_type": "display_data",
          "data": {
            "text/plain": [
              "<Figure size 432x288 with 1 Axes>"
            ],
            "image/png": "[encoded data removed]"
          },
          "metadata": {
            "needs_background": "light"
          }
        },
        {
          "output_type": "display_data",
          "data": {
            "text/plain": [
              "<Figure size 432x288 with 1 Axes>"
            ],
            "image/png": "[encoded data removed]"
          },
          "metadata": {
            "needs_background": "light"
          }
        }
      ]
    },
    {
      "cell_type": "code",
      "source": [
        "from sklearn.svm import SVR\n",
        "from sklearn.model_selection import cross_val_score\n",
        "\n",
        "# define the SVR model\n",
        "svr_model = SVR(kernel='rbf')\n",
        "\n",
        "# compute the cross-validation scores for MSE\n",
        "mse_scores = -cross_val_score(svr_model, X, y, cv=5, scoring='neg_mean_squared_error')\n",
        "\n",
        "# compute the cross-validation scores for R^2 score\n",
        "r2_scores = cross_val_score(svr_model, X, y, cv=5, scoring='r2')\n",
        "\n",
        "# compute the cross-validation scores for MAE\n",
        "mae_scores = -cross_val_score(svr_model, X, y, cv=5, scoring='neg_mean_absolute_error')\n",
        "\n",
        "# print the mean cross-validation score for MAE\n",
        "print(\"MAE scores:\", mae_scores.mean())\n",
        "\n",
        "# print the mean cross-validation scores for MSE and R^2 score\n",
        "print(\"MSE scores:\", mse_scores.mean())\n",
        "print(\"R^2 scores:\", r2_scores.mean())\n",
        "\n",
        "\n",
        "\n",
        "\n",
        "\n",
        "# compute the cross-validation scores for MAE\n",
        "mae_scores = -cross_val_score(svr_model, X, y, cv=5, scoring='neg_mean_absolute_error')\n",
        "\n",
        "import matplotlib.pyplot as plt\n",
        "# plot the MAE scores\n",
        "plt.plot(mae_scores)\n",
        "plt.xlabel('Fold')\n",
        "plt.ylabel('MAE')\n",
        "plt.title('Cross-validation scores for MAE')\n",
        "plt.show()\n",
        "\n",
        "\n",
        "# plot the R^2 scores\n",
        "plt.plot(r2_scores)\n",
        "plt.xlabel('Fold')\n",
        "plt.ylabel('R^2')\n",
        "plt.title('Cross-validation scores for R^2')\n",
        "plt.show()"
      ],
      "metadata": {
        "colab": {
          "base_uri": "https://localhost:8080/",
          "height": 625
        },
        "id": "wWPiqNCdBVsR",
        "outputId": "280204ac-a359-4107-8611-92f41f197812"
      },
      "execution_count": 24,
      "outputs": [
        {
          "output_type": "stream",
          "name": "stdout",
          "text": [
            "MAE scores: 0.16466287737046445\n",
            "MSE scores: 0.06021398192761669\n",
            "R^2 scores: 0.6287046132593443\n"
          ]
        },
        {
          "output_type": "display_data",
          "data": {
            "text/plain": [
              "<Figure size 432x288 with 1 Axes>"
            ],
            "image/png": "[encoded data removed]"
          },
          "metadata": {
            "needs_background": "light"
          }
        },
        {
          "output_type": "display_data",
          "data": {
            "text/plain": [
              "<Figure size 432x288 with 1 Axes>"
            ],
            "image/png": "[encoded data removed]"
          },
          "metadata": {
            "needs_background": "light"
          }
        }
      ]
    },
    {
      "cell_type": "code",
      "source": [
        "import numpy as np\n",
        "from sklearn.preprocessing import StandardScaler\n",
        "\n",
        "# Create a scaler object\n",
        "scaler = StandardScaler()\n",
        "\n",
        "# Fit and transform the data\n",
        "X_scaled = scaler.fit_transform(X)\n",
        "\n",
        "\n",
        "\n",
        "from sklearn.svm import SVR\n",
        "from sklearn.model_selection import cross_val_score\n",
        "\n",
        "# define the SVR model\n",
        "svr_model = SVR(kernel='rbf')\n",
        "\n",
        "# compute the cross-validation scores for MSE\n",
        "mse_scores = -cross_val_score(svr_model, X_scaled, y, cv=5, scoring='neg_mean_squared_error')\n",
        "\n",
        "# compute the cross-validation scores for R^2 score\n",
        "r2_scores = cross_val_score(svr_model, X_scaled, y, cv=5, scoring='r2')\n",
        "\n",
        "# compute the cross-validation scores for MAE\n",
        "mae_scores = -cross_val_score(svr_model, X_scaled, y, cv=5, scoring='neg_mean_absolute_error')\n",
        "\n",
        "# print the mean cross-validation score for MAE\n",
        "print(\"MAE scores:\", mae_scores.mean())\n",
        "\n",
        "# print the mean cross-validation scores for MSE and R^2 score\n",
        "print(\"MSE scores:\", mse_scores.mean())\n",
        "print(\"R^2 scores:\", r2_scores.mean())\n",
        "\n",
        "\n"
      ],
      "metadata": {
        "colab": {
          "base_uri": "https://localhost:8080/"
        },
        "id": "WObyuUpb7dhs",
        "outputId": "da4186eb-91c4-450a-b03c-641e537e762a"
      },
      "execution_count": 25,
      "outputs": [
        {
          "output_type": "stream",
          "name": "stdout",
          "text": [
            "MAE scores: 0.1587368019456441\n",
            "MSE scores: 0.05305001804568722\n",
            "R^2 scores: 0.6817627387417595\n"
          ]
        }
      ]
    },
    {
      "cell_type": "code",
      "source": [
        "import numpy as np\n",
        "from sklearn.preprocessing import StandardScaler\n",
        "\n",
        "# Define a custom scaler function for range standardization\n",
        "def range_scaler(X, new_min, new_max):\n",
        "    X_min = np.min(X)\n",
        "    X_max = np.max(X)\n",
        "    X_scaled = (X - X_min) * (new_max - new_min) / (X_max - X_min) + new_min\n",
        "    return X_scaled\n",
        "\n",
        "# Scale the data using the custom scaler function\n",
        "X_scaled = range_scaler(X, 0, 1)\n",
        "\n",
        "\n",
        "\n",
        "from sklearn.svm import SVR\n",
        "from sklearn.model_selection import cross_val_score\n",
        "\n",
        "# define the SVR model\n",
        "svr_model = SVR(kernel='rbf')\n",
        "\n",
        "# compute the cross-validation scores for MSE\n",
        "mse_scores = -cross_val_score(svr_model, X_scaled, y, cv=5, scoring='neg_mean_squared_error')\n",
        "\n",
        "# compute the cross-validation scores for R^2 score\n",
        "r2_scores = cross_val_score(svr_model, X_scaled, y, cv=5, scoring='r2')\n",
        "\n",
        "# compute the cross-validation scores for MAE\n",
        "mae_scores = -cross_val_score(svr_model, X_scaled, y, cv=5, scoring='neg_mean_absolute_error')\n",
        "\n",
        "# print the mean cross-validation score for MAE\n",
        "print(\"MAE scores:\", mae_scores.mean())\n",
        "\n",
        "# print the mean cross-validation scores for MSE and R^2 score\n",
        "print(\"MSE scores:\", mse_scores.mean())\n",
        "print(\"R^2 scores:\", r2_scores.mean())"
      ],
      "metadata": {
        "colab": {
          "base_uri": "https://localhost:8080/"
        },
        "id": "Eo97P4dVDGZL",
        "outputId": "14206d4c-0b71-47c0-d1eb-af321e6d1d52"
      },
      "execution_count": 26,
      "outputs": [
        {
          "output_type": "stream",
          "name": "stdout",
          "text": [
            "MAE scores: 0.1646628773704645\n",
            "MSE scores: 0.06021398192761669\n",
            "R^2 scores: 0.6287046132593443\n"
          ]
        }
      ]
    },
    {
      "cell_type": "code",
      "source": [
        "import numpy as np\n",
        "from sklearn.preprocessing import MinMaxScaler\n",
        "\n",
        "# Create a scaler object\n",
        "scaler = MinMaxScaler(feature_range=(0, 1))\n",
        "\n",
        "# Fit and transform the data\n",
        "X_scaled = scaler.fit_transform(X)\n",
        "\n",
        "\n",
        "\n",
        "from sklearn.svm import SVR\n",
        "from sklearn.model_selection import cross_val_score\n",
        "\n",
        "# define the SVR model\n",
        "svr_model = SVR(kernel='rbf')\n",
        "\n",
        "# compute the cross-validation scores for MSE\n",
        "mse_scores = -cross_val_score(svr_model, X_scaled, y, cv=5, scoring='neg_mean_squared_error')\n",
        "\n",
        "# compute the cross-validation scores for R^2 score\n",
        "r2_scores = cross_val_score(svr_model, X_scaled, y, cv=5, scoring='r2')\n",
        "\n",
        "# compute the cross-validation scores for MAE\n",
        "mae_scores = -cross_val_score(svr_model, X_scaled, y, cv=5, scoring='neg_mean_absolute_error')\n",
        "\n",
        "# print the mean cross-validation score for MAE\n",
        "print(\"MAE scores:\", mae_scores.mean())\n",
        "\n",
        "# print the mean cross-validation scores for MSE and R^2 score\n",
        "print(\"MSE scores:\", mse_scores.mean())\n",
        "print(\"R^2 scores:\", r2_scores.mean())"
      ],
      "metadata": {
        "colab": {
          "base_uri": "https://localhost:8080/"
        },
        "id": "XOv0xwl3Dbj_",
        "outputId": "2006b047-911b-4364-acf6-9c043c65637e"
      },
      "execution_count": 27,
      "outputs": [
        {
          "output_type": "stream",
          "name": "stdout",
          "text": [
            "MAE scores: 0.15797325086366204\n",
            "MSE scores: 0.05351521780233265\n",
            "R^2 scores: 0.6777431734711206\n"
          ]
        }
      ]
    }
  ]
}